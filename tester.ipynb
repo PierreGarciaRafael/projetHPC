{
 "cells": [
  {
   "cell_type": "code",
   "execution_count": 1,
   "id": "23c383f0",
   "metadata": {},
   "outputs": [],
   "source": [
    "import numpy as np"
   ]
  },
  {
   "cell_type": "code",
   "execution_count": 14,
   "id": "f70b648d",
   "metadata": {},
   "outputs": [],
   "source": [
    "prime = 65537"
   ]
  },
  {
   "cell_type": "code",
   "execution_count": 15,
   "id": "def7668d",
   "metadata": {},
   "outputs": [],
   "source": [
    "m = np.array([[1,2],[3,4]])"
   ]
  },
  {
   "cell_type": "code",
   "execution_count": 16,
   "id": "c603b049",
   "metadata": {},
   "outputs": [],
   "source": [
    "v = np.array([   [54744],\n",
    "        [45263]])"
   ]
  },
  {
   "cell_type": "code",
   "execution_count": 17,
   "id": "7f0b0a78",
   "metadata": {},
   "outputs": [
    {
     "data": {
      "text/plain": [
       "array([[14196],\n",
       "       [17599]])"
      ]
     },
     "execution_count": 17,
     "metadata": {},
     "output_type": "execute_result"
    }
   ],
   "source": [
    "(m@v)%prime"
   ]
  },
  {
   "cell_type": "code",
   "execution_count": 25,
   "id": "39471161",
   "metadata": {},
   "outputs": [
    {
     "data": {
      "text/plain": [
       "14196"
      ]
     },
     "execution_count": 25,
     "metadata": {},
     "output_type": "execute_result"
    }
   ],
   "source": [
    "(v[0,0]+2*v[1,0])%prime"
   ]
  },
  {
   "cell_type": "code",
   "execution_count": null,
   "id": "5b37b30c",
   "metadata": {},
   "outputs": [],
   "source": []
  }
 ],
 "metadata": {
  "kernelspec": {
   "display_name": "Python 3",
   "language": "python",
   "name": "python3"
  },
  "language_info": {
   "codemirror_mode": {
    "name": "ipython",
    "version": 3
   },
   "file_extension": ".py",
   "mimetype": "text/x-python",
   "name": "python",
   "nbconvert_exporter": "python",
   "pygments_lexer": "ipython3",
   "version": "3.9.7"
  }
 },
 "nbformat": 4,
 "nbformat_minor": 5
}
